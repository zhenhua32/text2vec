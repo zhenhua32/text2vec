{
 "cells": [
  {
   "cell_type": "code",
   "execution_count": 1,
   "metadata": {},
   "outputs": [
    {
     "name": "stderr",
     "output_type": "stream",
     "text": [
      "c:\\tech\\Anaconda3\\envs\\nlp\\lib\\site-packages\\huggingface_hub\\utils\\_deprecation.py:97: FutureWarning: Deprecated argument(s) used in 'dataset_info': token. Will not be supported from version '0.12'.\n",
      "  warnings.warn(message, FutureWarning)\n",
      "Reusing dataset nli_zh (C:\\Users\\zhenh\\.cache\\huggingface\\datasets\\shibing624___nli_zh\\STS-B\\1.0.0\\65b555276ee420c801e1c9eb830db959e37f42fa60c68c8b07a4448b8c436706)\n",
      "100%|██████████| 3/3 [00:00<00:00, 72.36it/s]"
     ]
    },
    {
     "name": "stdout",
     "output_type": "stream",
     "text": [
      "DatasetDict({\n",
      "    train: Dataset({\n",
      "        features: ['sentence1', 'sentence2', 'label'],\n",
      "        num_rows: 5231\n",
      "    })\n",
      "    validation: Dataset({\n",
      "        features: ['sentence1', 'sentence2', 'label'],\n",
      "        num_rows: 1458\n",
      "    })\n",
      "    test: Dataset({\n",
      "        features: ['sentence1', 'sentence2', 'label'],\n",
      "        num_rows: 1361\n",
      "    })\n",
      "})\n",
      "{'sentence1': '一个女孩在给她的头发做发型。', 'sentence2': '一个女孩在梳头。', 'label': 2}\n"
     ]
    },
    {
     "name": "stderr",
     "output_type": "stream",
     "text": [
      "\n"
     ]
    }
   ],
   "source": [
    "# 加载中文语义匹配数据集\n",
    "from datasets import load_dataset\n",
    "\n",
    "dataset = load_dataset(\"shibing624/nli_zh\", \"STS-B\") # ATEC or BQ or LCQMC or PAWSX or STS-B\n",
    "print(dataset)\n",
    "print(dataset['test'][0])"
   ]
  },
  {
   "cell_type": "code",
   "execution_count": 2,
   "metadata": {},
   "outputs": [
    {
     "data": {
      "text/plain": [
       "{'sentence1': ['一个女孩在给她的头发做发型。',\n",
       "  '一群男人在海滩上踢足球。',\n",
       "  '一个女人在测量另一个女人的脚踝。',\n",
       "  '一个人正在切黄瓜。',\n",
       "  '一个人在弹竖琴。',\n",
       "  '一个女人在切洋葱。',\n",
       "  '一个男人在骑电动自行车。',\n",
       "  '一个人在打鼓。',\n",
       "  '一个人在弹吉他。',\n",
       "  '一个男人在弹吉他。'],\n",
       " 'sentence2': ['一个女孩在梳头。',\n",
       "  '一群男孩在海滩上踢足球。',\n",
       "  '女人测量另一个女人的脚踝。',\n",
       "  '一个人在切黄瓜。',\n",
       "  '一个男人在玩键盘。',\n",
       "  '一个女人在切豆腐。',\n",
       "  '一个男人在骑自行车。',\n",
       "  '一个人在弹吉他。',\n",
       "  '一位女士正在弹吉他。',\n",
       "  '一个人在吹小号。'],\n",
       " 'label': [2, 3, 5, 4, 1, 1, 3, 2, 2, 1]}"
      ]
     },
     "execution_count": 2,
     "metadata": {},
     "output_type": "execute_result"
    }
   ],
   "source": [
    "dataset[\"test\"][:10]"
   ]
  },
  {
   "cell_type": "code",
   "execution_count": 3,
   "metadata": {},
   "outputs": [
    {
     "data": {
      "text/plain": [
       "{0, 1, 2, 3, 4, 5}"
      ]
     },
     "execution_count": 3,
     "metadata": {},
     "output_type": "execute_result"
    }
   ],
   "source": [
    "set(dataset[\"test\"][\"label\"])"
   ]
  },
  {
   "cell_type": "code",
   "execution_count": 4,
   "metadata": {},
   "outputs": [
    {
     "name": "stderr",
     "output_type": "stream",
     "text": [
      "c:\\tech\\Anaconda3\\envs\\nlp\\lib\\site-packages\\huggingface_hub\\utils\\_deprecation.py:97: FutureWarning: Deprecated argument(s) used in 'dataset_info': token. Will not be supported from version '0.12'.\n",
      "  warnings.warn(message, FutureWarning)\n",
      "Reusing dataset nli_zh (C:\\Users\\zhenh\\.cache\\huggingface\\datasets\\shibing624___nli_zh\\STS-B\\1.0.0\\65b555276ee420c801e1c9eb830db959e37f42fa60c68c8b07a4448b8c436706)\n"
     ]
    }
   ],
   "source": [
    "from transformers import BertTokenizer\n",
    "from text2vec.cosent_dataset import CosentTrainDataset, HFCosentTrainDataset\n",
    "\n",
    "tokenizer = BertTokenizer.from_pretrained(\"bert-base-chinese\")\n",
    "ds = HFCosentTrainDataset(tokenizer, name=\"STS-B\")"
   ]
  },
  {
   "cell_type": "code",
   "execution_count": 13,
   "metadata": {},
   "outputs": [
    {
     "data": {
      "text/plain": [
       "('一架飞机要起飞了。', 5)"
      ]
     },
     "execution_count": 13,
     "metadata": {},
     "output_type": "execute_result"
    }
   ],
   "source": [
    "ds.data[0]"
   ]
  },
  {
   "cell_type": "code",
   "execution_count": 18,
   "metadata": {},
   "outputs": [
    {
     "data": {
      "text/plain": [
       "torch.Size([1, 3])"
      ]
     },
     "execution_count": 18,
     "metadata": {},
     "output_type": "execute_result"
    }
   ],
   "source": [
    "tokenizer(\"hello\", return_tensors=\"pt\").input_ids.shape"
   ]
  },
  {
   "cell_type": "code",
   "execution_count": 20,
   "metadata": {},
   "outputs": [
    {
     "data": {
      "text/plain": [
       "({'input_ids': tensor([[ 101,  671, 3373, 7607, 3322, 6206, 6629, 7607,  749,  511,  102,    0,\n",
       "             0,    0,    0,    0,    0,    0,    0,    0,    0,    0,    0,    0,\n",
       "             0,    0,    0,    0,    0,    0,    0,    0,    0,    0,    0,    0,\n",
       "             0,    0,    0,    0,    0,    0,    0,    0,    0,    0,    0,    0,\n",
       "             0,    0,    0,    0,    0,    0,    0,    0,    0,    0,    0,    0,\n",
       "             0,    0,    0,    0]]), 'token_type_ids': tensor([[0, 0, 0, 0, 0, 0, 0, 0, 0, 0, 0, 0, 0, 0, 0, 0, 0, 0, 0, 0, 0, 0, 0, 0,\n",
       "          0, 0, 0, 0, 0, 0, 0, 0, 0, 0, 0, 0, 0, 0, 0, 0, 0, 0, 0, 0, 0, 0, 0, 0,\n",
       "          0, 0, 0, 0, 0, 0, 0, 0, 0, 0, 0, 0, 0, 0, 0, 0]]), 'attention_mask': tensor([[1, 1, 1, 1, 1, 1, 1, 1, 1, 1, 1, 0, 0, 0, 0, 0, 0, 0, 0, 0, 0, 0, 0, 0,\n",
       "          0, 0, 0, 0, 0, 0, 0, 0, 0, 0, 0, 0, 0, 0, 0, 0, 0, 0, 0, 0, 0, 0, 0, 0,\n",
       "          0, 0, 0, 0, 0, 0, 0, 0, 0, 0, 0, 0, 0, 0, 0, 0]])},\n",
       " 5)"
      ]
     },
     "execution_count": 20,
     "metadata": {},
     "output_type": "execute_result"
    }
   ],
   "source": [
    "next(iter(ds))"
   ]
  },
  {
   "cell_type": "code",
   "execution_count": 11,
   "metadata": {},
   "outputs": [
    {
     "name": "stderr",
     "output_type": "stream",
     "text": [
      "Downloading: 100%|██████████| 319/319 [00:00<00:00, 249kB/s]\n",
      "Downloading: 100%|██████████| 110k/110k [00:00<00:00, 234kB/s]  \n",
      "Downloading: 100%|██████████| 112/112 [00:00<00:00, 75.2kB/s]\n",
      "Downloading: 100%|██████████| 856/856 [00:00<00:00, 547kB/s]\n",
      "Downloading: 100%|██████████| 409M/409M [02:18<00:00, 2.95MB/s]    \n",
      "2023-03-27 21:56:09.723 | DEBUG    | text2vec.sentence_model:__init__:74 - Use device: cuda\n"
     ]
    },
    {
     "data": {
      "text/plain": [
       "array([-8.73178244e-04, -2.97581643e-01,  8.57558310e-01,  6.90924346e-01,\n",
       "        3.96556109e-01, -8.48086417e-01, -1.92169607e-01,  8.50638226e-02,\n",
       "        4.02970433e-01,  3.19323033e-01, -5.57503663e-02,  4.48107928e-01,\n",
       "        3.13774079e-01, -2.80758381e-01, -5.07912576e-01, -6.66705191e-01,\n",
       "       -6.74362898e-01,  1.13538945e+00, -3.32745552e-01,  3.99660885e-01,\n",
       "        5.70807517e-01, -3.85165393e-01, -5.17046869e-01,  7.55031586e-01,\n",
       "        6.94332421e-02, -3.01219001e-02,  1.99714437e-01, -2.21695416e-02,\n",
       "       -5.93404353e-01,  1.13369095e+00, -3.82232517e-01,  4.27420318e-01,\n",
       "       -1.45564795e+00,  5.52417219e-01, -6.69935942e-01,  4.27275658e-01,\n",
       "        6.30201697e-01, -1.82869092e-01,  1.40390068e-01, -2.69413069e-02,\n",
       "       -1.73220947e-01, -9.84630138e-02, -1.47475576e+00, -6.00712895e-01,\n",
       "        2.96586584e-02,  5.77780962e-01, -8.05996656e-01, -7.07791269e-01,\n",
       "       -9.81831014e-01,  3.50279510e-01, -3.99609864e-01,  3.19287729e+00,\n",
       "       -4.94269691e-02,  3.74379903e-01, -4.79069769e-01,  1.76926255e+00,\n",
       "        6.47505105e-01, -3.71824712e-01, -1.11456275e+00,  4.02318597e-01,\n",
       "        4.98225331e-01, -2.23724972e-02,  4.97346759e-01, -1.58595717e+00,\n",
       "       -2.62203276e-01,  2.61439830e-01, -9.45088789e-02,  2.55980551e-01,\n",
       "        4.02340591e-01, -9.32649076e-01,  5.83494842e-01, -1.09936029e-01,\n",
       "       -7.98456520e-02,  2.49643236e-01,  4.63977382e-02,  6.67641699e-01,\n",
       "        5.95752835e-01, -1.37761927e+00, -2.35360846e-01, -6.95636809e-01,\n",
       "       -4.22542095e-01,  8.64203647e-02, -8.27715933e-01, -5.06627679e-01,\n",
       "        2.06727818e-01, -5.29841423e-01,  3.57633799e-01, -2.27349937e-01,\n",
       "        8.18365157e-01, -1.38238579e-01,  7.26923585e-01, -4.37201381e-01,\n",
       "        1.89475760e-01,  5.80063701e-01, -1.59644037e-01,  6.08737674e-03,\n",
       "        9.92849410e-01, -1.52791798e+00, -4.03979093e-01,  3.63179505e-01,\n",
       "        7.40208983e-01,  9.16603506e-02, -4.40227330e-01, -9.09571052e-01,\n",
       "       -4.20315236e-01, -5.29911160e-01,  2.46202856e-01,  8.63171697e-01,\n",
       "       -2.86932021e-01, -5.17664477e-02,  1.10113164e-02,  9.17986035e-01,\n",
       "       -3.57494727e-02,  2.84831613e-01,  8.81848872e-01,  2.47183695e-01,\n",
       "       -3.68106633e-01,  5.18906593e-01,  5.34705222e-01, -4.49531764e-01,\n",
       "        5.56691103e-02, -7.13184416e-01,  2.68860132e-01, -7.04766929e-01,\n",
       "       -5.04965067e-01,  3.49995911e-01,  2.40107998e-02, -4.82322602e-03,\n",
       "       -4.75579292e-01,  1.29554999e+00,  2.64869481e-01, -2.04128414e-01,\n",
       "       -1.66390523e-01, -4.36135024e-01,  2.44473353e-01, -4.32617217e-01,\n",
       "       -5.77283502e-01, -3.50139350e-01, -1.13093579e+00, -1.23802674e+00,\n",
       "       -2.06346244e-01, -4.17692989e-01,  6.77053034e-02, -1.88287631e-01,\n",
       "        1.29858470e+00, -7.73990527e-02, -7.76339591e-01,  9.32195038e-02,\n",
       "        1.12370145e+00, -1.19537210e+00, -5.96777380e-01,  9.01905119e-01,\n",
       "        1.60431396e-02,  7.00239018e-02,  2.98253238e-01,  1.31105278e-02,\n",
       "        5.69855794e-02,  9.44771528e-01, -8.97736549e-01, -9.52738643e-01,\n",
       "        8.62338126e-01, -1.92085236e-01, -6.37999952e-01, -2.78658755e-02,\n",
       "        7.20156372e-01,  6.21899068e-01,  3.11497241e-01,  1.42956525e-01,\n",
       "       -5.66052869e-02, -1.81076527e-01, -7.57332087e-01, -1.27244508e+00,\n",
       "       -5.90626597e-01,  1.55057371e-01,  3.58352512e-01, -2.55880147e-01,\n",
       "        5.09692430e-01,  6.13588542e-02, -5.64807415e-01, -2.13923529e-01,\n",
       "       -3.04685354e-01, -9.51111391e-02,  7.90186822e-01, -2.56899238e-01,\n",
       "        3.86058211e-01, -6.60802841e-01, -1.74192831e-01,  7.06929445e-01,\n",
       "        3.57903481e-01, -1.21337123e-01,  4.71941143e-01,  6.59045577e-01,\n",
       "        1.50914297e-01, -1.04189992e+00,  4.11755592e-02,  2.37257019e-01,\n",
       "        7.28290901e-02, -4.15386051e-01, -5.36771357e-01, -5.91203272e-01,\n",
       "       -3.23951572e-01,  3.70191514e-01,  3.53282720e-01, -1.97219297e-01,\n",
       "        1.76424757e-01,  5.92147768e-01, -9.01597559e-01, -6.08494699e-01,\n",
       "       -3.54575366e-01,  8.90417397e-01, -9.73318219e-01, -1.03094435e+00,\n",
       "       -3.84273976e-01,  4.94859397e-01,  5.05375624e-01,  5.60322821e-01,\n",
       "        4.53781337e-01, -3.62270832e-01, -8.99704874e-01,  8.20141733e-01,\n",
       "        4.79751289e-01,  7.44818330e-01,  4.57102299e-01, -5.84363580e-01,\n",
       "       -2.07606420e-01, -9.04784501e-01,  5.65815438e-03,  3.63060683e-01,\n",
       "        1.23427224e+00,  9.53980684e-01, -4.30239271e-03, -2.26553947e-01,\n",
       "       -5.39712012e-01,  4.36829090e-01, -3.03858966e-01, -3.37806672e-01,\n",
       "        8.80758286e-01,  8.58806297e-02, -6.74455881e-01, -1.18087685e+00,\n",
       "       -4.53090996e-01,  6.10987604e-01, -6.79977655e-01,  1.15159750e-02,\n",
       "       -1.55218124e-01, -2.21753255e-01, -6.89803779e-01, -1.37630403e-01,\n",
       "        8.77782583e-01, -5.67859948e-01,  8.32551658e-01,  2.61415899e-01,\n",
       "        2.02611417e-01, -7.79413104e-01,  1.72694385e-01, -1.02649927e-01,\n",
       "       -2.68167630e-02, -1.60608798e-01, -3.86487901e-01,  4.08817619e-01,\n",
       "        6.21109843e-01,  4.92517874e-02,  1.77878723e-01,  7.24646151e-01,\n",
       "        8.17873538e-01, -2.20408991e-01,  5.75825348e-02, -2.73030102e-01,\n",
       "       -3.00063074e-01,  6.78706527e-01,  2.45807320e-01,  2.87438363e-01,\n",
       "       -1.26087260e+00, -3.80280495e-01,  9.35519114e-02,  4.68167454e-01,\n",
       "       -3.37835968e-01, -8.11066255e-02, -7.97408164e-01, -8.69591087e-02,\n",
       "       -7.77606010e-01,  4.60421294e-01,  5.81206203e-01,  8.87995362e-01,\n",
       "       -1.13655217e-01, -7.39211068e-02, -8.37622106e-01, -3.02346312e-02,\n",
       "       -2.08987847e-01,  8.52730691e-01,  2.16268793e-01, -3.44394296e-02,\n",
       "       -3.24486673e-01,  8.01571786e-01,  2.08650541e+00, -5.85007250e-01,\n",
       "       -5.88082969e-01,  3.80792558e-01,  7.44007409e-01,  2.23621592e-01,\n",
       "        8.71681929e-01, -1.81173071e-01, -3.16072136e-01,  1.53578877e+00,\n",
       "       -9.64700699e-01,  7.62483299e-01,  2.39841521e-01, -2.97182858e-01,\n",
       "        1.24068506e-01, -2.14428216e-01, -1.27106890e-01, -1.28542930e-01,\n",
       "       -2.37218410e-01,  6.79279745e-01,  3.97053778e-01,  4.49294627e-01,\n",
       "       -3.60682368e-01,  1.22356009e+00,  6.75257802e-01, -1.45550519e-01,\n",
       "        2.65083760e-01,  5.27836204e-01,  1.42967236e+00,  9.03305769e-01,\n",
       "        1.50095105e+00,  1.71579510e-01,  3.59372139e-01, -6.92890763e-01,\n",
       "       -2.19933689e-01,  2.02336591e-02,  1.09077001e+00, -3.23259085e-02,\n",
       "        6.07100904e-01,  1.18223584e+00,  2.92124212e-01,  4.98723835e-01,\n",
       "       -7.05177307e-01, -5.47993720e-01, -1.98078692e-01, -1.11036909e+00,\n",
       "        5.32395244e-01, -2.54761100e-01, -4.14360791e-01, -1.01573038e+00,\n",
       "        5.05616367e-01, -4.31866378e-01,  1.01511443e+00, -1.44176459e+00,\n",
       "       -2.27649465e-01, -1.28471231e+00,  2.07369432e-01,  6.56797111e-01,\n",
       "       -2.93106675e-01,  3.83063585e-01, -1.09937382e+00,  1.29294887e-01,\n",
       "        3.51593852e-01, -7.60569721e-02,  3.23590100e-01,  6.25722781e-02,\n",
       "       -9.92502630e-01, -7.09808648e-01, -9.37553465e-01,  1.05308509e+00,\n",
       "        3.37041408e-01, -4.72762555e-01,  8.34098876e-01,  3.43053341e-01,\n",
       "       -9.36382294e-01, -3.61256599e-01,  6.65032923e-01,  2.00833023e-01,\n",
       "        8.69611204e-02, -3.72451842e-01, -1.34030376e-02, -4.31659520e-01,\n",
       "       -1.02954650e+00,  5.44203639e-01,  9.04314280e-01,  1.69540870e+00,\n",
       "        1.63256454e+00, -9.34085846e-01,  6.30481303e-01,  1.05737720e-03,\n",
       "       -2.22743511e-01,  4.62961704e-01,  1.80011764e-01, -5.81971049e-01,\n",
       "        2.14931369e-02, -7.84415841e-01, -2.28552788e-01, -3.62242833e-02,\n",
       "       -9.62994516e-01, -7.13094771e-01,  3.04244757e-01,  9.30950582e-01,\n",
       "       -7.70661086e-02,  2.88886845e-01, -2.41130725e-01,  1.63246202e+00,\n",
       "       -3.29861373e-01, -4.30517197e-01, -5.68883538e-01, -8.61597896e-01,\n",
       "        3.68624002e-01,  7.62601435e-01, -7.44445682e-01, -1.64895564e-01,\n",
       "       -8.42662692e-01,  4.14225727e-01, -8.23924899e-01,  6.16640091e-01,\n",
       "       -6.82066858e-01,  1.44654930e+00,  7.18939722e-01, -8.54915738e-01,\n",
       "        1.24826580e-01,  4.82575774e-01,  9.45628762e-01, -8.16596568e-01,\n",
       "       -1.43791229e-01,  2.08240293e-04,  1.28542316e+00,  2.82444894e-01,\n",
       "        6.95671976e-01,  3.48943204e-01, -1.17606258e+00,  1.82120562e-01,\n",
       "        2.98431128e-01,  8.56257603e-02, -1.45388854e+00,  7.16467127e-02,\n",
       "       -9.35948312e-01,  4.10300434e-01,  6.14521541e-02,  4.53808725e-01,\n",
       "       -8.72338831e-01,  7.04638422e-01,  2.05585331e-01,  4.15945470e-01,\n",
       "       -2.97096908e-01, -4.67073396e-02, -6.09175742e-01,  1.24946266e-01,\n",
       "       -8.97947609e-01,  8.49669218e-01,  6.17490470e-01,  1.64264161e-02,\n",
       "        6.54764891e-01,  1.03625998e-01,  6.69990122e-01,  7.58785903e-01,\n",
       "       -7.93401659e-01, -6.26316726e-01, -5.75483859e-01, -4.19000983e-01,\n",
       "       -5.22051096e-01, -8.56604874e-01,  3.34470242e-01,  1.07871342e+00,\n",
       "        4.90389317e-01, -8.07814062e-01, -7.68739820e-01, -1.04651265e-02,\n",
       "        5.44556044e-02, -4.60598022e-01, -3.26068819e-01, -3.13764572e-01,\n",
       "        1.07650375e+00,  1.40242890e-01, -6.59361899e-01,  1.05706644e+00,\n",
       "       -3.43268424e-01, -6.29102647e-01,  5.82195878e-01, -8.49501342e-02,\n",
       "       -4.71869737e-01,  3.32680106e-01, -8.15061152e-01, -4.06228006e-01,\n",
       "        1.96329474e+00, -7.91763961e-02, -4.81782645e-01, -1.23579800e+00,\n",
       "        6.06359899e-01,  9.20160413e-01, -2.05361366e-01,  7.27887452e-01,\n",
       "       -5.33019960e-01, -5.39554596e-01, -9.44991350e-01,  4.00666386e-01,\n",
       "       -3.61022145e-01, -8.80789220e-01,  1.03603685e+00, -7.58502662e-01,\n",
       "       -6.63727671e-02,  7.37718642e-01, -3.07040036e-01, -3.63515109e-01,\n",
       "       -2.95291543e-01,  8.85996521e-02,  5.28358221e-01,  8.87637511e-02,\n",
       "       -9.02781069e-01,  3.44874829e-01, -1.18568026e-01,  6.51460052e-01,\n",
       "        4.11133289e-01,  8.46283287e-02, -6.20386422e-01, -8.71605933e-01,\n",
       "       -8.56104553e-01,  2.16561824e-01,  1.27631390e+00, -5.28212905e-01,\n",
       "       -5.93443274e-01,  5.88714063e-01,  3.91901821e-01,  1.65051520e+00,\n",
       "        1.91246167e-01,  2.06090242e-01,  6.49237186e-02, -2.46448353e-01,\n",
       "        3.77784669e-01,  4.43325013e-01,  4.20559078e-01, -7.26251006e-01,\n",
       "       -6.38676286e-01,  7.39755869e-01,  3.84891719e-01, -4.92255427e-02,\n",
       "       -8.31872404e-01, -1.04609346e+00,  5.21873869e-03,  9.02990758e-01,\n",
       "       -6.10964179e-01, -3.40323672e-02,  7.92567909e-01, -1.23498213e+00,\n",
       "       -7.64876425e-01,  1.02984466e-01, -9.36835349e-01, -1.92918152e-01,\n",
       "        3.78156543e-01, -3.73110026e-01,  3.45320165e-01,  6.06554389e-01,\n",
       "        6.36810660e-01, -7.37582207e-01,  2.36747205e-01, -3.41364533e-01,\n",
       "       -2.35047951e-01,  8.93267035e-01,  8.00790787e-01, -5.91317832e-01,\n",
       "       -6.64110720e-01, -7.94700503e-01, -2.53852814e-01, -1.66029155e-01,\n",
       "       -8.14934790e-01, -2.42528878e-02, -1.53262520e+00, -4.67626929e-01,\n",
       "       -5.28469443e-01, -3.09299260e-01,  2.71599829e-01, -6.50354147e-01,\n",
       "       -1.07156408e+00, -7.97035098e-01, -5.18687010e-01,  5.10037899e-01,\n",
       "       -3.69578987e-01,  1.84643179e-01, -2.14899689e-01, -6.78320229e-01,\n",
       "        6.98775649e-01, -2.85622239e-01,  6.82797790e-01, -1.54356152e-01,\n",
       "        3.04730594e-01,  2.85242707e-01,  5.98786414e-01, -1.23341894e+00,\n",
       "       -6.48180544e-01,  4.52775180e-01, -4.23155636e-01,  2.89644867e-01,\n",
       "        9.60037112e-01, -6.03842497e-01, -1.88083380e-01,  5.53532720e-01,\n",
       "        2.10164282e-02,  6.45302117e-01,  3.22289132e-02,  6.92689776e-01,\n",
       "        2.08147705e-01, -1.12458747e-02, -8.19540858e-01,  3.39119256e-01,\n",
       "       -8.04063082e-02,  9.61480260e-01,  6.93627298e-01, -6.95647299e-01,\n",
       "       -8.48497272e-01,  1.77151427e-01,  1.06097591e+00,  3.74050260e-01,\n",
       "        3.67856324e-01,  5.59090376e-01, -1.40991068e+00, -4.18179594e-02,\n",
       "        7.01098204e-01, -4.94412743e-02, -6.98152244e-01,  5.49031002e-03,\n",
       "        7.14159012e-01, -8.47653225e-02, -1.01031601e+00, -2.13838413e-01,\n",
       "        3.42242599e-01, -8.56832623e-01, -1.37148947e-01,  3.66926134e-01,\n",
       "       -1.36066055e+00, -1.04330337e+00,  6.08480155e-01,  1.71321690e+00,\n",
       "       -2.37108529e-01,  6.73833430e-01,  7.51529410e-02,  1.50815591e-01,\n",
       "       -7.53572136e-02, -1.02405334e+00,  1.28950760e-01,  1.02383530e+00,\n",
       "       -2.00116448e-02,  8.20325255e-01, -2.10873097e-01,  8.81589472e-01,\n",
       "        5.97827971e-01, -3.87446463e-01,  2.36262619e-01, -8.25377777e-02,\n",
       "        4.24336135e-01, -5.66053331e-01,  7.61840522e-01,  1.99868366e-01,\n",
       "       -5.57175398e-01, -6.21116877e-01, -2.96829462e-01,  1.49205160e+00,\n",
       "        4.22657914e-02, -6.62455857e-01, -3.88336107e-02,  1.31511673e-01,\n",
       "        2.25859672e-01, -7.08289206e-01, -7.92879045e-01, -4.24791314e-02,\n",
       "       -1.64030716e-01,  6.04295313e-01,  7.43975580e-01,  1.01865321e-01,\n",
       "       -8.50473404e-01, -5.93068480e-01, -5.29974520e-01,  1.47195250e-01,\n",
       "       -7.23961890e-01,  2.52429754e-01,  1.31548035e+00,  1.60419023e+00,\n",
       "        3.10773104e-01, -2.24506453e-01,  9.22755957e-01,  1.98548496e-01,\n",
       "       -1.10994864e+00, -4.13935065e-01,  5.03414035e-01, -6.92447782e-01,\n",
       "        6.83480054e-02,  3.11929435e-01, -5.55651665e-01,  1.32211536e-01,\n",
       "        1.00658529e-01, -1.32149434e+00, -1.03379583e+00, -3.09389859e-01,\n",
       "       -2.67110020e-01, -8.67068529e-01,  2.06482574e-01,  6.47112191e-01,\n",
       "       -1.39682278e-01, -1.11723757e+00,  2.35817432e-02,  2.97293448e+00,\n",
       "       -1.02151620e+00,  3.07630837e-01, -1.74589410e-01, -1.30367041e-01,\n",
       "       -6.93469882e-01,  2.93500423e-01,  5.44290781e-01, -2.43327960e-01,\n",
       "       -3.89130533e-01,  8.48749094e-03, -7.61628985e-01, -2.75045455e-01,\n",
       "       -6.97940826e-01,  2.10231952e-02, -1.01924706e-02,  1.44550791e-02,\n",
       "        2.56506890e-01, -2.17895508e-01,  1.08482674e-01,  7.17266202e-01,\n",
       "        1.69709969e+00,  2.59072274e-01,  2.05356970e-01, -1.44906509e+00,\n",
       "        1.21356320e+00,  1.69252485e-01, -3.85145582e-02, -9.47920442e-01,\n",
       "        5.46799779e-01,  3.21451634e-01,  6.79000556e-01,  8.34271967e-01,\n",
       "        9.53940153e-01,  4.84769195e-01, -2.09035769e-01, -4.83879507e-01,\n",
       "       -1.14432037e+00, -1.07378192e-01, -4.87037480e-01,  9.88268793e-01,\n",
       "       -7.85204172e-01, -5.10819778e-02,  2.93972373e-01, -4.13193226e-01,\n",
       "       -6.04225755e-01,  5.31873442e-02,  5.20792246e-01, -6.16439819e-01,\n",
       "        2.42685094e-01,  3.22080314e-01, -6.72235489e-01, -5.98470986e-01,\n",
       "        7.82267332e-01,  3.62484008e-01, -8.71903002e-02,  5.29954970e-01,\n",
       "       -6.46178246e-01, -2.32918888e-01, -1.51412889e-01, -2.09960148e-01,\n",
       "        1.41533840e+00,  3.22651446e-01, -3.63742672e-02,  4.40089911e-01,\n",
       "        2.73262989e-02, -1.01079643e+00,  1.01034808e+00,  2.74684161e-01,\n",
       "        4.83959466e-01, -5.28716743e-01, -1.43110901e-01, -1.00180298e-01],\n",
       "      dtype=float32)"
      ]
     },
     "execution_count": 11,
     "metadata": {},
     "output_type": "execute_result"
    }
   ],
   "source": [
    "# 计算文本向量\n",
    "from text2vec import SentenceModel\n",
    "m = SentenceModel()\n",
    "m.encode(\"如何更换花呗绑定银行卡\")"
   ]
  },
  {
   "cell_type": "code",
   "execution_count": 12,
   "metadata": {},
   "outputs": [
    {
     "data": {
      "text/plain": [
       "(768,)"
      ]
     },
     "execution_count": 12,
     "metadata": {},
     "output_type": "execute_result"
    }
   ],
   "source": [
    "m.encode(\"如何更换花呗绑定银行卡\").shape"
   ]
  },
  {
   "cell_type": "code",
   "execution_count": 15,
   "metadata": {},
   "outputs": [
    {
     "name": "stderr",
     "output_type": "stream",
     "text": [
      "2023-03-27 22:16:31.816 | DEBUG    | text2vec.sentence_model:__init__:74 - Use device: cuda\n"
     ]
    },
    {
     "name": "stdout",
     "output_type": "stream",
     "text": [
      "<class 'numpy.ndarray'> (7, 768)\n",
      "Sentence: 卡\n",
      "Embedding shape: (768,)\n",
      "Embedding head: [-0.04977724 -0.33171934 -0.00532505  0.4418156   0.07202864 -0.53584313\n",
      "  0.28940666 -0.23253402  0.1264531   0.05347508]\n",
      "\n",
      "Sentence: 银行卡\n",
      "Embedding shape: (768,)\n",
      "Embedding head: [ 0.45279318 -0.42445827 -0.14716911  0.24204725 -0.07651675 -0.5382693\n",
      "  0.6072925   0.3676615   0.17926651  0.2790872 ]\n",
      "\n",
      "Sentence: 如何更换花呗绑定银行卡\n",
      "Embedding shape: (768,)\n",
      "Embedding head: [-0.02097823 -0.18890344  0.4786955   0.39721304  0.13386682 -0.5419943\n",
      " -0.19353105  0.06198965  0.33106783  0.250483  ]\n",
      "\n",
      "Sentence: 花呗更改绑定银行卡\n",
      "Embedding shape: (768,)\n",
      "Embedding head: [ 0.43529636 -0.03247471  0.50272775  0.6837435   0.03527252 -0.6274161\n",
      " -0.03718407 -0.4832515   0.23929055  0.15692097]\n",
      "\n",
      "Sentence: This framework generates embeddings for each input sentence\n",
      "Embedding shape: (768,)\n",
      "Embedding head: [ 0.13474712  0.14534721  0.16505745  0.24624328  0.23114589 -1.1601977\n",
      "  0.4902567   0.20616975  0.14004757 -0.15814328]\n",
      "\n",
      "Sentence: Sentences are passed as a list of string.\n",
      "Embedding shape: (768,)\n",
      "Embedding head: [ 0.1673956   0.10583574 -0.12086523  0.6936872  -0.01229183 -1.1792296\n",
      "  0.0403982  -0.10305174  0.15049034 -0.22009209]\n",
      "\n",
      "Sentence: The quick brown fox jumps over the lazy dog.\n",
      "Embedding shape: (768,)\n",
      "Embedding head: [ 0.14259963 -0.4077013  -0.43070304  0.24433897  0.6445949  -0.61627996\n",
      " -0.27011716  0.46449506 -0.17977896  0.02035509]\n",
      "\n"
     ]
    },
    {
     "name": "stderr",
     "output_type": "stream",
     "text": [
      "2023-03-27 22:16:45.752 | DEBUG    | text2vec.sentence_model:__init__:74 - Use device: cuda\n",
      "2023-03-27 22:16:46.112 | INFO     | text2vec.word2vec:__init__:79 - Load pretrained model:w2v-light-tencent-chinese, path:C:\\Users\\zhenh/.text2vec/datasets/light_Tencent_AILab_ChineseEmbedding.bin\n",
      "2023-03-27 22:16:46.113 | DEBUG    | text2vec.word2vec:__init__:83 - Downloading https://github.com/shibing624/text2vec/releases/download/1.1.4/light_Tencent_AILab_ChineseEmbedding.bin to C:\\Users\\zhenh/.text2vec/datasets/light_Tencent_AILab_ChineseEmbedding.bin\n"
     ]
    },
    {
     "name": "stdout",
     "output_type": "stream",
     "text": [
      "<class 'numpy.ndarray'> (7, 384)\n",
      "Sentence: 卡\n",
      "Embedding shape: (384,)\n",
      "Embedding head: [ 0.01405178  0.08629343 -0.13548851  0.11024427 -0.1241213  -0.10809863\n",
      "  0.30826128  0.13806215  0.11248315 -0.08078025]\n",
      "\n",
      "Sentence: 银行卡\n",
      "Embedding shape: (384,)\n",
      "Embedding head: [ 0.06225628  0.27311167 -0.691245    0.00709202 -0.09663092 -0.20337228\n",
      "  0.1653007   0.17584088 -0.00140917 -0.12762672]\n",
      "\n",
      "Sentence: 如何更换花呗绑定银行卡\n",
      "Embedding shape: (384,)\n",
      "Embedding head: [-0.08834156  0.29436362 -0.2513643  -0.00767829 -0.07496292 -0.12789132\n",
      "  0.07142717 -0.01516887 -0.19019765 -0.1269672 ]\n",
      "\n",
      "Sentence: 花呗更改绑定银行卡\n",
      "Embedding shape: (384,)\n",
      "Embedding head: [-0.05953889  0.17646152 -0.30323333 -0.02486227 -0.08564541 -0.09936513\n",
      "  0.12161542 -0.0034775  -0.06419752 -0.09616537]\n",
      "\n",
      "Sentence: This framework generates embeddings for each input sentence\n",
      "Embedding shape: (384,)\n",
      "Embedding head: [-0.03196121 -0.40139648 -0.14813185  0.03277028 -0.05254712  0.23173559\n",
      "  0.3758882  -0.04391822  0.11352541 -0.12233292]\n",
      "\n",
      "Sentence: Sentences are passed as a list of string.\n",
      "Embedding shape: (384,)\n",
      "Embedding head: [ 0.1425374  -0.12190858  0.3168805  -0.00749494 -0.02099108 -0.15275182\n",
      "  0.4202206  -0.13194014  0.11933947 -0.07976473]\n",
      "\n",
      "Sentence: The quick brown fox jumps over the lazy dog.\n",
      "Embedding shape: (384,)\n",
      "Embedding head: [ 0.08809283 -0.01312691 -0.1933874   0.16710743  0.07956736 -0.29295352\n",
      " -0.1047864   0.10777319 -0.00113302 -0.53732073]\n",
      "\n",
      "Downloading data from https://github.com/shibing624/text2vec/releases/download/1.1.4/light_Tencent_AILab_ChineseEmbedding.bin\n",
      "116023296/116021049 [==============================] - 184s 2us/step\n"
     ]
    },
    {
     "name": "stderr",
     "output_type": "stream",
     "text": [
      "2023-03-27 22:19:53.757 | DEBUG    | text2vec.word2vec:__init__:92 - Load w2v from C:\\Users\\zhenh/.text2vec/datasets/light_Tencent_AILab_ChineseEmbedding.bin, spend 1.88 sec\n"
     ]
    },
    {
     "name": "stdout",
     "output_type": "stream",
     "text": [
      "<class 'numpy.ndarray'> (7, 200)\n",
      "Sentence: 卡\n",
      "Embedding shape: (200,)\n",
      "Embedding head: [ 0.06761453 -0.10960816 -0.04829824  0.0156597  -0.09412017 -0.04805465\n",
      " -0.03369278 -0.07476041 -0.01600934  0.03106228]\n",
      "\n",
      "Sentence: 银行卡\n",
      "Embedding shape: (200,)\n",
      "Embedding head: [ 0.01032454 -0.13564903 -0.00089282  0.02286329 -0.03501284  0.00987683\n",
      "  0.02884413 -0.03491557  0.02036332  0.04516884]\n",
      "\n",
      "Sentence: 如何更换花呗绑定银行卡\n",
      "Embedding shape: (200,)\n",
      "Embedding head: [ 0.02396784 -0.13885356  0.00176219  0.02540027  0.00949343 -0.01486312\n",
      "  0.01011733  0.00190828  0.02708069  0.04316072]\n",
      "\n",
      "Sentence: 花呗更改绑定银行卡\n",
      "Embedding shape: (200,)\n",
      "Embedding head: [ 0.00871027 -0.14244929 -0.00959482  0.03021128  0.01514321 -0.01624702\n",
      "  0.00260827  0.0131352   0.02293272  0.04481505]\n",
      "\n",
      "Sentence: This framework generates embeddings for each input sentence\n",
      "Embedding shape: (200,)\n",
      "Embedding head: [-0.08317478 -0.00601972 -0.06293213 -0.03963032 -0.0145333  -0.0549945\n",
      "  0.05606257  0.02389491 -0.02102496  0.03023159]\n",
      "\n",
      "Sentence: Sentences are passed as a list of string.\n",
      "Embedding shape: (200,)\n",
      "Embedding head: [-0.08008799 -0.01654172 -0.04550576 -0.03715633  0.00133283 -0.04776235\n",
      "  0.04780829  0.01377041 -0.01251951  0.02603387]\n",
      "\n",
      "Sentence: The quick brown fox jumps over the lazy dog.\n",
      "Embedding shape: (200,)\n",
      "Embedding head: [-0.08605123 -0.01434057 -0.06376401 -0.03962022 -0.00724643 -0.05585583\n",
      "  0.05175515  0.02725058 -0.01821304  0.02920807]\n",
      "\n"
     ]
    }
   ],
   "source": [
    "from text2vec import SentenceModel, EncoderType\n",
    "from text2vec import Word2Vec\n",
    "\n",
    "\n",
    "def compute_emb(model):\n",
    "    # Embed a list of sentences\n",
    "    sentences = [\n",
    "        '卡',\n",
    "        '银行卡',\n",
    "        '如何更换花呗绑定银行卡',\n",
    "        '花呗更改绑定银行卡',\n",
    "        'This framework generates embeddings for each input sentence',\n",
    "        'Sentences are passed as a list of string.',\n",
    "        'The quick brown fox jumps over the lazy dog.'\n",
    "    ]\n",
    "    sentence_embeddings = model.encode(sentences)\n",
    "    print(type(sentence_embeddings), sentence_embeddings.shape)\n",
    "\n",
    "    # The result is a list of sentence embeddings as numpy arrays\n",
    "    for sentence, embedding in zip(sentences, sentence_embeddings):\n",
    "        print(\"Sentence:\", sentence)\n",
    "        print(\"Embedding shape:\", embedding.shape)\n",
    "        print(\"Embedding head:\", embedding[:10])\n",
    "        print()\n",
    "\n",
    "\n",
    "\n",
    "# 中文句向量模型(CoSENT)，中文语义匹配任务推荐，支持fine-tune继续训练\n",
    "t2v_model = SentenceModel(\"shibing624/text2vec-base-chinese\",\n",
    "                            encoder_type=EncoderType.FIRST_LAST_AVG)\n",
    "compute_emb(t2v_model)\n",
    "\n",
    "# 支持多语言的句向量模型（Sentence-BERT），英文语义匹配任务推荐，支持fine-tune继续训练\n",
    "sbert_model = SentenceModel(\"sentence-transformers/paraphrase-multilingual-MiniLM-L12-v2\",\n",
    "                            encoder_type=EncoderType.MEAN)\n",
    "compute_emb(sbert_model)\n",
    "\n",
    "# 中文词向量模型(word2vec)，中文字面匹配任务和冷启动适用\n",
    "w2v_model = Word2Vec(\"w2v-light-tencent-chinese\")\n",
    "compute_emb(w2v_model)"
   ]
  },
  {
   "cell_type": "code",
   "execution_count": 16,
   "metadata": {},
   "outputs": [
    {
     "name": "stderr",
     "output_type": "stream",
     "text": [
      "2023-03-27 22:38:35.863 | DEBUG    | text2vec.sentence_model:__init__:74 - Use device: cuda\n",
      "C:\\Users\\zhenh\\AppData\\Local\\Temp\\ipykernel_33968\\1654544575.py:18: DeprecationWarning: Call to deprecated `get_score` (Use similarities instead, `pip install similarities`).\n",
      "  score = sim_model.get_score(sentences1[i], sentences2[j])\n"
     ]
    },
    {
     "name": "stdout",
     "output_type": "stream",
     "text": [
      "如何更换花呗绑定银行卡 \t\t 花呗更改绑定银行卡 \t\t Score: 0.9477\n",
      "如何更换花呗绑定银行卡 \t\t The dog plays in the garden \t\t Score: -0.1748\n",
      "如何更换花呗绑定银行卡 \t\t A woman watches TV \t\t Score: -0.0839\n",
      "如何更换花呗绑定银行卡 \t\t The new movie is so great \t\t Score: -0.0044\n",
      "The cat sits outside \t\t 花呗更改绑定银行卡 \t\t Score: -0.0098\n",
      "The cat sits outside \t\t The dog plays in the garden \t\t Score: 0.1908\n",
      "The cat sits outside \t\t A woman watches TV \t\t Score: -0.0202\n",
      "The cat sits outside \t\t The new movie is so great \t\t Score: 0.0302\n",
      "A man is playing guitar \t\t 花呗更改绑定银行卡 \t\t Score: -0.0010\n",
      "A man is playing guitar \t\t The dog plays in the garden \t\t Score: 0.1061\n",
      "A man is playing guitar \t\t A woman watches TV \t\t Score: 0.0056\n",
      "A man is playing guitar \t\t The new movie is so great \t\t Score: 0.0097\n",
      "The new movie is awesome \t\t 花呗更改绑定银行卡 \t\t Score: 0.0301\n",
      "The new movie is awesome \t\t The dog plays in the garden \t\t Score: -0.0160\n",
      "The new movie is awesome \t\t A woman watches TV \t\t Score: 0.1320\n",
      "The new movie is awesome \t\t The new movie is so great \t\t Score: 0.9591\n"
     ]
    }
   ],
   "source": [
    "# 计算句子相似度\n",
    "from text2vec import Similarity\n",
    "\n",
    "# Two lists of sentences\n",
    "sentences1 = ['如何更换花呗绑定银行卡',\n",
    "              'The cat sits outside',\n",
    "              'A man is playing guitar',\n",
    "              'The new movie is awesome']\n",
    "\n",
    "sentences2 = ['花呗更改绑定银行卡',\n",
    "              'The dog plays in the garden',\n",
    "              'A woman watches TV',\n",
    "              'The new movie is so great']\n",
    "\n",
    "sim_model = Similarity()\n",
    "for i in range(len(sentences1)):\n",
    "    for j in range(len(sentences2)):\n",
    "        score = sim_model.get_score(sentences1[i], sentences2[j])\n",
    "        print(\"{} \\t\\t {} \\t\\t Score: {:.4f}\".format(sentences1[i], sentences2[j], score))"
   ]
  },
  {
   "cell_type": "code",
   "execution_count": 17,
   "metadata": {},
   "outputs": [
    {
     "name": "stderr",
     "output_type": "stream",
     "text": [
      "2023-03-27 22:39:46.558 | DEBUG    | text2vec.sentence_model:__init__:74 - Use device: cuda\n"
     ]
    },
    {
     "name": "stdout",
     "output_type": "stream",
     "text": [
      "\n",
      "\n",
      "======================\n",
      "\n",
      "\n",
      "Query: 如何更换花呗绑定银行卡\n",
      "\n",
      "Top 5 most similar sentences in corpus:\n",
      "花呗更改绑定银行卡 (Score: 0.8551)\n",
      "我什么时候开通了花呗 (Score: 0.7212)\n",
      "A man is eating food. (Score: 0.3118)\n",
      "A man is eating a piece of bread. (Score: 0.2992)\n",
      "A monkey is playing drums. (Score: 0.2921)\n",
      "\n",
      "\n",
      "======================\n",
      "\n",
      "\n",
      "Query: A man is eating pasta.\n",
      "\n",
      "Top 5 most similar sentences in corpus:\n",
      "A man is eating food. (Score: 0.7841)\n",
      "A man is riding a white horse on an enclosed ground. (Score: 0.6906)\n",
      "A man is eating a piece of bread. (Score: 0.6831)\n",
      "A man is riding a horse. (Score: 0.6516)\n",
      "Two men pushed carts through the woods. (Score: 0.5270)\n",
      "\n",
      "\n",
      "======================\n",
      "\n",
      "\n",
      "Query: Someone in a gorilla costume is playing a set of drums.\n",
      "\n",
      "Top 5 most similar sentences in corpus:\n",
      "A monkey is playing drums. (Score: 0.6756)\n",
      "A man is riding a white horse on an enclosed ground. (Score: 0.6351)\n",
      "The girl is carrying a baby. (Score: 0.5438)\n",
      "A man is riding a horse. (Score: 0.5001)\n",
      "A man is eating a piece of bread. (Score: 0.4916)\n",
      "\n",
      "\n",
      "======================\n",
      "\n",
      "\n",
      "Query: A cheetah chases prey on across a field.\n",
      "\n",
      "Top 5 most similar sentences in corpus:\n",
      "A cheetah is running behind its prey. (Score: 0.6737)\n",
      "A man is riding a white horse on an enclosed ground. (Score: 0.5731)\n",
      "A monkey is playing drums. (Score: 0.4976)\n",
      "The girl is carrying a baby. (Score: 0.4570)\n",
      "A man is riding a horse. (Score: 0.4286)\n"
     ]
    }
   ],
   "source": [
    "# 文本匹配搜索\n",
    "from text2vec import SentenceModel, cos_sim, semantic_search\n",
    "\n",
    "embedder = SentenceModel()\n",
    "\n",
    "# Corpus with example sentences\n",
    "corpus = [\n",
    "    '花呗更改绑定银行卡',\n",
    "    '我什么时候开通了花呗',\n",
    "    'A man is eating food.',\n",
    "    'A man is eating a piece of bread.',\n",
    "    'The girl is carrying a baby.',\n",
    "    'A man is riding a horse.',\n",
    "    'A woman is playing violin.',\n",
    "    'Two men pushed carts through the woods.',\n",
    "    'A man is riding a white horse on an enclosed ground.',\n",
    "    'A monkey is playing drums.',\n",
    "    'A cheetah is running behind its prey.'\n",
    "]\n",
    "corpus_embeddings = embedder.encode(corpus)\n",
    "\n",
    "# Query sentences:\n",
    "queries = [\n",
    "    '如何更换花呗绑定银行卡',\n",
    "    'A man is eating pasta.',\n",
    "    'Someone in a gorilla costume is playing a set of drums.',\n",
    "    'A cheetah chases prey on across a field.']\n",
    "\n",
    "for query in queries:\n",
    "    query_embedding = embedder.encode(query)\n",
    "    hits = semantic_search(query_embedding, corpus_embeddings, top_k=5)\n",
    "    print(\"\\n\\n======================\\n\\n\")\n",
    "    print(\"Query:\", query)\n",
    "    print(\"\\nTop 5 most similar sentences in corpus:\")\n",
    "    hits = hits[0]  # Get the hits for the first query\n",
    "    for hit in hits:\n",
    "        print(corpus[hit['corpus_id']], \"(Score: {:.4f})\".format(hit['score']))"
   ]
  },
  {
   "cell_type": "code",
   "execution_count": null,
   "metadata": {},
   "outputs": [],
   "source": [
    "# 上面都是直接应用\n",
    "# 下面是训练模型\n",
    "from text2vec import CosentModel\n",
    "m = CosentModel(\"bert-base-chinese\")\n",
    "print(m)\n",
    "m.train_model(use_hf_dataset=True, num_epochs=1, output_dir=\"./temp\")\n",
    "r = m.encode([\"我爱北京天安门\"])\n",
    "# print(r)"
   ]
  },
  {
   "cell_type": "code",
   "execution_count": null,
   "metadata": {},
   "outputs": [],
   "source": []
  }
 ],
 "metadata": {
  "kernelspec": {
   "display_name": "nlp",
   "language": "python",
   "name": "python3"
  },
  "language_info": {
   "codemirror_mode": {
    "name": "ipython",
    "version": 3
   },
   "file_extension": ".py",
   "mimetype": "text/x-python",
   "name": "python",
   "nbconvert_exporter": "python",
   "pygments_lexer": "ipython3",
   "version": "3.8.12"
  },
  "orig_nbformat": 4
 },
 "nbformat": 4,
 "nbformat_minor": 2
}
